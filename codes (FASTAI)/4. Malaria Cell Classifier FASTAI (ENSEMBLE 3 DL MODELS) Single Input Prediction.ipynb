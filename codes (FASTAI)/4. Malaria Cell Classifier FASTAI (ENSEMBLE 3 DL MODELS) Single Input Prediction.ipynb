{
  "nbformat": 4,
  "nbformat_minor": 0,
  "metadata": {
    "colab": {
      "name": "7.  FINAL + HMAP -  MALARIA CELLS - FASTAI - SINGLE INPUT PREDICTION.ipynb",
      "provenance": [],
      "collapsed_sections": [],
      "include_colab_link": true
    },
    "kernelspec": {
      "name": "python3",
      "display_name": "Python 3"
    }
  },
  "cells": [
    {
      "cell_type": "markdown",
      "metadata": {
        "id": "view-in-github",
        "colab_type": "text"
      },
      "source": [
        "<a href=\"https://colab.research.google.com/github/bala-codes/MALARIA-CELLS-PARASITE-CLASSIFIER-USING-DEEP-LEARNING/blob/master/codes%20(FASTAI)/4.%20Malaria%20Cell%20Classifier%20FASTAI%20(ENSEMBLE%203%20DL%20MODELS)%20Single%20Input%20Prediction.ipynb\" target=\"_parent\"><img src=\"https://colab.research.google.com/assets/colab-badge.svg\" alt=\"Open In Colab\"/></a>"
      ]
    },
    {
      "cell_type": "code",
      "metadata": {
        "id": "hxRM8GLeU4k2",
        "colab_type": "code",
        "colab": {
          "base_uri": "https://localhost:8080/",
          "height": 122
        },
        "outputId": "70e36941-26c4-49ca-fcd1-d1b64345b5ee"
      },
      "source": [
        "from google.colab import drive\n",
        "drive.mount('/content/drive')"
      ],
      "execution_count": null,
      "outputs": [
        {
          "output_type": "stream",
          "text": [
            "Go to this URL in a browser: https://accounts.google.com/o/oauth2/auth?client_id=947318989803-6bn6qk8qdgf4n4g3pfee6491hc0brc4i.apps.googleusercontent.com&redirect_uri=urn%3aietf%3awg%3aoauth%3a2.0%3aoob&response_type=code&scope=email%20https%3a%2f%2fwww.googleapis.com%2fauth%2fdocs.test%20https%3a%2f%2fwww.googleapis.com%2fauth%2fdrive%20https%3a%2f%2fwww.googleapis.com%2fauth%2fdrive.photos.readonly%20https%3a%2f%2fwww.googleapis.com%2fauth%2fpeopleapi.readonly\n",
            "\n",
            "Enter your authorization code:\n",
            "··········\n",
            "Mounted at /content/drive\n"
          ],
          "name": "stdout"
        }
      ]
    },
    {
      "cell_type": "code",
      "metadata": {
        "id": "vgNIUA48U-4v",
        "colab_type": "code",
        "colab": {
          "base_uri": "https://localhost:8080/",
          "height": 802
        },
        "outputId": "7bf83f86-ebfe-4b77-db04-9d169c364806"
      },
      "source": [
        "%%time\n",
        "\n",
        "# Check if fastai and pytorch are installed\n",
        "!pip list | grep -e fastai -e torch -e torchvision\n",
        "\n",
        "# If not, uncomment this line and run to install them\n",
        "!pip install torch torchvision fastai\n",
        "\n",
        "'''\n",
        "fastai                   1.0.59     \n",
        "torch                    1.3.1      \n",
        "torchsummary             1.5.1      \n",
        "torchtext                0.3.1      \n",
        "torchvision              0.4.2  \n",
        "'''"
      ],
      "execution_count": null,
      "outputs": [
        {
          "output_type": "stream",
          "text": [
            "fastai                   1.0.60         \n",
            "torch                    1.4.0          \n",
            "torchsummary             1.5.1          \n",
            "torchtext                0.3.1          \n",
            "torchvision              0.5.0          \n",
            "Requirement already satisfied: torch in /usr/local/lib/python3.6/dist-packages (1.4.0)\n",
            "Requirement already satisfied: torchvision in /usr/local/lib/python3.6/dist-packages (0.5.0)\n",
            "Requirement already satisfied: fastai in /usr/local/lib/python3.6/dist-packages (1.0.60)\n",
            "Requirement already satisfied: six in /usr/local/lib/python3.6/dist-packages (from torchvision) (1.12.0)\n",
            "Requirement already satisfied: pillow>=4.1.1 in /usr/local/lib/python3.6/dist-packages (from torchvision) (6.2.2)\n",
            "Requirement already satisfied: numpy in /usr/local/lib/python3.6/dist-packages (from torchvision) (1.17.5)\n",
            "Requirement already satisfied: pandas in /usr/local/lib/python3.6/dist-packages (from fastai) (0.25.3)\n",
            "Requirement already satisfied: fastprogress>=0.2.1 in /usr/local/lib/python3.6/dist-packages (from fastai) (0.2.2)\n",
            "Requirement already satisfied: pyyaml in /usr/local/lib/python3.6/dist-packages (from fastai) (3.13)\n",
            "Requirement already satisfied: scipy in /usr/local/lib/python3.6/dist-packages (from fastai) (1.4.1)\n",
            "Requirement already satisfied: spacy>=2.0.18 in /usr/local/lib/python3.6/dist-packages (from fastai) (2.1.9)\n",
            "Requirement already satisfied: nvidia-ml-py3 in /usr/local/lib/python3.6/dist-packages (from fastai) (7.352.0)\n",
            "Requirement already satisfied: bottleneck in /usr/local/lib/python3.6/dist-packages (from fastai) (1.3.1)\n",
            "Requirement already satisfied: numexpr in /usr/local/lib/python3.6/dist-packages (from fastai) (2.7.1)\n",
            "Requirement already satisfied: packaging in /usr/local/lib/python3.6/dist-packages (from fastai) (20.1)\n",
            "Requirement already satisfied: dataclasses; python_version < \"3.7\" in /usr/local/lib/python3.6/dist-packages (from fastai) (0.7)\n",
            "Requirement already satisfied: requests in /usr/local/lib/python3.6/dist-packages (from fastai) (2.21.0)\n",
            "Requirement already satisfied: beautifulsoup4 in /usr/local/lib/python3.6/dist-packages (from fastai) (4.6.3)\n",
            "Requirement already satisfied: matplotlib in /usr/local/lib/python3.6/dist-packages (from fastai) (3.1.3)\n",
            "Requirement already satisfied: pytz>=2017.2 in /usr/local/lib/python3.6/dist-packages (from pandas->fastai) (2018.9)\n",
            "Requirement already satisfied: python-dateutil>=2.6.1 in /usr/local/lib/python3.6/dist-packages (from pandas->fastai) (2.6.1)\n",
            "Requirement already satisfied: cymem<2.1.0,>=2.0.2 in /usr/local/lib/python3.6/dist-packages (from spacy>=2.0.18->fastai) (2.0.3)\n",
            "Requirement already satisfied: wasabi<1.1.0,>=0.2.0 in /usr/local/lib/python3.6/dist-packages (from spacy>=2.0.18->fastai) (0.6.0)\n",
            "Requirement already satisfied: srsly<1.1.0,>=0.0.6 in /usr/local/lib/python3.6/dist-packages (from spacy>=2.0.18->fastai) (1.0.1)\n",
            "Requirement already satisfied: plac<1.0.0,>=0.9.6 in /usr/local/lib/python3.6/dist-packages (from spacy>=2.0.18->fastai) (0.9.6)\n",
            "Requirement already satisfied: thinc<7.1.0,>=7.0.8 in /usr/local/lib/python3.6/dist-packages (from spacy>=2.0.18->fastai) (7.0.8)\n",
            "Requirement already satisfied: preshed<2.1.0,>=2.0.1 in /usr/local/lib/python3.6/dist-packages (from spacy>=2.0.18->fastai) (2.0.1)\n",
            "Requirement already satisfied: murmurhash<1.1.0,>=0.28.0 in /usr/local/lib/python3.6/dist-packages (from spacy>=2.0.18->fastai) (1.0.2)\n",
            "Requirement already satisfied: blis<0.3.0,>=0.2.2 in /usr/local/lib/python3.6/dist-packages (from spacy>=2.0.18->fastai) (0.2.4)\n",
            "Requirement already satisfied: pyparsing>=2.0.2 in /usr/local/lib/python3.6/dist-packages (from packaging->fastai) (2.4.6)\n",
            "Requirement already satisfied: chardet<3.1.0,>=3.0.2 in /usr/local/lib/python3.6/dist-packages (from requests->fastai) (3.0.4)\n",
            "Requirement already satisfied: urllib3<1.25,>=1.21.1 in /usr/local/lib/python3.6/dist-packages (from requests->fastai) (1.24.3)\n",
            "Requirement already satisfied: idna<2.9,>=2.5 in /usr/local/lib/python3.6/dist-packages (from requests->fastai) (2.8)\n",
            "Requirement already satisfied: certifi>=2017.4.17 in /usr/local/lib/python3.6/dist-packages (from requests->fastai) (2019.11.28)\n",
            "Requirement already satisfied: cycler>=0.10 in /usr/local/lib/python3.6/dist-packages (from matplotlib->fastai) (0.10.0)\n",
            "Requirement already satisfied: kiwisolver>=1.0.1 in /usr/local/lib/python3.6/dist-packages (from matplotlib->fastai) (1.1.0)\n",
            "Requirement already satisfied: tqdm<5.0.0,>=4.10.0 in /usr/local/lib/python3.6/dist-packages (from thinc<7.1.0,>=7.0.8->spacy>=2.0.18->fastai) (4.28.1)\n",
            "Requirement already satisfied: setuptools in /usr/local/lib/python3.6/dist-packages (from kiwisolver>=1.0.1->matplotlib->fastai) (45.2.0)\n",
            "CPU times: user 171 ms, sys: 27.8 ms, total: 199 ms\n",
            "Wall time: 13.5 s\n"
          ],
          "name": "stdout"
        }
      ]
    },
    {
      "cell_type": "code",
      "metadata": {
        "id": "Bv3HbG8FbNyJ",
        "colab_type": "code",
        "colab": {
          "base_uri": "https://localhost:8080/",
          "height": 51
        },
        "outputId": "5bca2921-de32-48cb-cdf6-286558fe30fa"
      },
      "source": [
        "%%time\n",
        "import matplotlib.pyplot as plt\n",
        "from skimage.transform import resize\n",
        "plt.style.use('ggplot')\n",
        "%matplotlib inline\n",
        "import numpy as np\n",
        "import PIL\n",
        "from PIL import Image\n",
        "\n",
        "from fastai import *\n",
        "from fastai.vision import *\n",
        "from fastai.core import *\n",
        "from fastai.metrics import accuracy\n",
        "\n",
        "\n",
        "def img_show_resize(PATH):\n",
        "  image = plt.imread(PATH)\n",
        "  plt.imshow(image)\n",
        "  img_resized = resize(image, (128, 128))\n",
        "\n",
        "  assert img_resized.shape == (128, 128, 3)\n",
        "  return img_resized\n",
        "\n",
        "def resize_save(PATH):\n",
        "  img = plt.imread(PATH)\n",
        "  channel = img.shape[2]\n",
        "\n",
        "  if channel != 3:\n",
        "    img = plt.imread(PATH)[:,:,:3]\n",
        "  else:\n",
        "    img = plt.imread(PATH)\n",
        "  \n",
        "  img = resize(img, (128, 128))\n",
        "  plt.imsave(PATH, img)\n",
        "  assert img.shape == (128, 128, 3)\n",
        "  return PATH\n",
        "\n",
        "\n",
        "def plotter(prediction):\n",
        "  prediction1 = prediction\n",
        "  final = str(prediction1[0])\n",
        "  scores = prediction1[2]\n",
        "  a = float((scores[0]))\n",
        "  b = float((scores[1]))\n",
        "\n",
        "  start = \"\\033[1m\"\n",
        "  end = \"\\033[0;0m\"\n",
        "  print(\"OUTPUT - \"+ start + str(final) + end)\n",
        "  print()\n",
        "  class_labels = ['INFECTED','UNINFECTED']\n",
        "  j = [a,b]\n",
        "  y_pos = np.arange(len(class_labels))\n",
        "  colors = ['r', 'g']\n",
        "  plt.barh(y_pos, j, color = colors, alpha=0.6)\n",
        "  plt.xlim(0.1,1.0)\n",
        "  plt.yticks(y_pos,class_labels)\n",
        "  plt.title('PREDICTION FOR BEING AFFECTED BY MALARIA')\n",
        "  plt.ylabel('Percentage')\n",
        "  plt.xlabel('Labels')\n",
        "  plt.show()\n",
        "\n",
        "def finalplotter(prediction1,prediction2,prediction3):\n",
        "\n",
        "  final = []\n",
        "\n",
        "  pred1 = prediction1\n",
        "  final1 = str(pred1[0])\n",
        "  scores1 = pred1[2]\n",
        "  a1 = float((scores1[0]))\n",
        "  b1 = float((scores1[1]))\n",
        "  final.append(final1)\n",
        "\n",
        "  pred2 = prediction2\n",
        "  final2 = str(pred2[0])\n",
        "  scores2 = pred2[2]\n",
        "  a2 = float((scores2[0]))\n",
        "  b2 = float((scores2[1]))\n",
        "  final.append(final2)\n",
        "\n",
        "  pred3 = prediction3\n",
        "  final3 = str(pred3[0])\n",
        "  scores3 = pred3[2]\n",
        "  a3 = float((scores3[0]))\n",
        "  b3 = float((scores3[1]))\n",
        "  final.append(final3)\n",
        "\n",
        "  print(final)\n",
        "  a = np.mean([a1,a2,a3], dtype=float)\n",
        "  b = np.mean([b1,b2,b3], dtype=float)\n",
        "  \n",
        "  start = \"\\033[1m\"\n",
        "  end = \"\\033[0;0m\"\n",
        "  # print(\"OUTPUT - \"+ start + str(final) + end)\n",
        "  print()\n",
        "  class_labels = ['INFECTED','UNINFECTED']\n",
        "  j = [a,b]\n",
        "  y_pos = np.arange(len(class_labels))\n",
        "  colors = ['r', 'g']\n",
        "  plt.barh(y_pos, j, color = colors, alpha=0.6)\n",
        "  plt.xlim(0.1,1.0)\n",
        "  plt.yticks(y_pos,class_labels)\n",
        "  plt.title('PREDICTION FOR BEING AFFECTED BY MALARIA')\n",
        "  plt.ylabel('Percentage')\n",
        "  plt.xlabel('Labels')\n",
        "  plt.show()"
      ],
      "execution_count": null,
      "outputs": [
        {
          "output_type": "stream",
          "text": [
            "CPU times: user 1.29 ms, sys: 0 ns, total: 1.29 ms\n",
            "Wall time: 1.29 ms\n"
          ],
          "name": "stdout"
        }
      ]
    },
    {
      "cell_type": "markdown",
      "metadata": {
        "id": "JOJ0HEE5wWhx",
        "colab_type": "text"
      },
      "source": [
        "# IMPORT THE MODELS HERE"
      ]
    },
    {
      "cell_type": "code",
      "metadata": {
        "id": "2cTiYJSEjjlR",
        "colab_type": "code",
        "colab": {
          "base_uri": "https://localhost:8080/",
          "height": 51
        },
        "outputId": "63619c56-bde1-449d-a8bc-66c3ab91f63a"
      },
      "source": [
        "%%time\n",
        "path1 = '/content/drive/My Drive/Machine Learning Projects/MEDICAL - MALARIA CELLS CLASSIFIER/SOURCE CODES AND DATASETS/Pretrained Models/'\n",
        "path2 = '/content/drive/My Drive/Machine Learning Projects/MEDICAL - MALARIA CELLS CLASSIFIER/SOURCE CODES AND DATASETS/Pretrained Models/models-VGG19/'\n",
        "\n",
        "learner1 = load_learner(path1, 'stage-3-MALARIA-VGG16-epoch.pkl')\n",
        "learner2 = load_learner(path2, 'stage-3-MALARIA-VGG19.pkl')\n",
        "learner3 = load_learner(path2, 'stage-1-MALARIA-VGG19.pkl')"
      ],
      "execution_count": null,
      "outputs": [
        {
          "output_type": "stream",
          "text": [
            "CPU times: user 64.4 ms, sys: 210 ms, total: 274 ms\n",
            "Wall time: 2 s\n"
          ],
          "name": "stdout"
        }
      ]
    },
    {
      "cell_type": "code",
      "metadata": {
        "id": "b8nGnCZOytc9",
        "colab_type": "code",
        "colab": {
          "base_uri": "https://localhost:8080/",
          "height": 54
        },
        "outputId": "86623d01-576d-48a9-c763-00f3ec9b63cd"
      },
      "source": [
        "'''\n",
        "img1 = img_show_resize('/content/drive/My Drive/Machine Learning Projects/MEDICAL - MALARIA CELLS CLASSIFIER/SOURCE CODES AND DATASETS/MALARIA DETECTION - FINAL DATASETS/CELL_IMAGES/Parasitized/C33P1thinF_IMG_20150619_114756a_cell_180.png')\n",
        "img2 = img_show_resize('/content/drive/My Drive/Machine Learning Projects/MEDICAL - MALARIA CELLS CLASSIFIER/SOURCE CODES AND DATASETS/MALARIA DETECTION - FINAL DATASETS/CELL_IMAGES/Uninfected/C1_thinF_IMG_20150604_104722_cell_81.png')\n",
        "print(type(img1))\n",
        "imsave(\"/content/img1resized.png\", img1)\n",
        "imsave(\"/content/img2resized.png\", img2)\n",
        "'''"
      ],
      "execution_count": null,
      "outputs": [
        {
          "output_type": "execute_result",
          "data": {
            "text/plain": [
              "'\\nimg1 = img_show_resize(\\'/content/drive/My Drive/Machine Learning Projects/MEDICAL - MALARIA CELLS CLASSIFIER/SOURCE CODES AND DATASETS/MALARIA DETECTION - FINAL DATASETS/CELL_IMAGES/Parasitized/C33P1thinF_IMG_20150619_114756a_cell_180.png\\')\\nimg2 = img_show_resize(\\'/content/drive/My Drive/Machine Learning Projects/MEDICAL - MALARIA CELLS CLASSIFIER/SOURCE CODES AND DATASETS/MALARIA DETECTION - FINAL DATASETS/CELL_IMAGES/Uninfected/C1_thinF_IMG_20150604_104722_cell_81.png\\')\\nprint(type(img1))\\nimsave(\"/content/img1resized.png\", img1)\\nimsave(\"/content/img2resized.png\", img2)\\n'"
            ]
          },
          "metadata": {
            "tags": []
          },
          "execution_count": 70
        }
      ]
    },
    {
      "cell_type": "code",
      "metadata": {
        "id": "GQ3B7MulmUsl",
        "colab_type": "code",
        "colab": {}
      },
      "source": [
        "!cp -r '/content/drive/My Drive/Machine Learning Projects/MEDICAL - MALARIA CELLS CLASSIFIER/SOURCE CODES AND DATASETS/MALARIA DETECTION - FINAL DATASETS/CELL_IMAGES/Parasitized/C33P1thinF_IMG_20150619_114756a_cell_180.png' '/content/C33P1thinF_IMG_20150619_114756a_cell_180.png' "
      ],
      "execution_count": null,
      "outputs": []
    },
    {
      "cell_type": "code",
      "metadata": {
        "id": "X6DTFp172CzW",
        "colab_type": "code",
        "colab": {
          "base_uri": "https://localhost:8080/",
          "height": 211
        },
        "outputId": "23f2ba7f-0736-4421-bf3b-38fd0f8266c7"
      },
      "source": [
        "testimg1 = open_image(resize_save('/content/C33P1thinF_IMG_20150619_114756a_cell_180.png'))\n",
        "print(testimg1.shape)\n",
        "testimg1.show()"
      ],
      "execution_count": null,
      "outputs": [
        {
          "output_type": "stream",
          "text": [
            "torch.Size([3, 128, 128])\n"
          ],
          "name": "stdout"
        },
        {
          "output_type": "display_data",
          "data": {
            "image/png": "[encoded data removed]",
            "text/plain": [
              "<Figure size 216x216 with 1 Axes>"
            ]
          },
          "metadata": {
            "tags": []
          }
        }
      ]
    },
    {
      "cell_type": "code",
      "metadata": {
        "id": "cBZc-B8_ZlWu",
        "colab_type": "code",
        "colab": {
          "base_uri": "https://localhost:8080/",
          "height": 999
        },
        "outputId": "0bbac504-2454-4ef1-f703-42fd0790e496"
      },
      "source": [
        "%%time\n",
        "\n",
        "prediction1 = learner1.predict(testimg1)\n",
        "prediction2 = learner2.predict(testimg1)\n",
        "prediction3 = learner3.predict(testimg1)\n",
        "\n",
        "plotter(prediction1)\n",
        "plotter(prediction2)\n",
        "plotter(prediction3)"
      ],
      "execution_count": null,
      "outputs": [
        {
          "output_type": "stream",
          "text": [
            "OUTPUT - \u001b[1mParasitized\u001b[0;0m\n",
            "\n"
          ],
          "name": "stdout"
        },
        {
          "output_type": "display_data",
          "data": {
            "image/png": "[encoded data removed]",
            "text/plain": [
              "<Figure size 432x288 with 1 Axes>"
            ]
          },
          "metadata": {
            "tags": []
          }
        },
        {
          "output_type": "stream",
          "text": [
            "OUTPUT - \u001b[1mParasitized\u001b[0;0m\n",
            "\n"
          ],
          "name": "stdout"
        },
        {
          "output_type": "display_data",
          "data": {
            "image/png": "[encoded data removed]",
            "text/plain": [
              "<Figure size 432x288 with 1 Axes>"
            ]
          },
          "metadata": {
            "tags": []
          }
        },
        {
          "output_type": "stream",
          "text": [
            "OUTPUT - \u001b[1mParasitized\u001b[0;0m\n",
            "\n"
          ],
          "name": "stdout"
        },
        {
          "output_type": "display_data",
          "data": {
            "image/png": "[encoded data removed]",
            "text/plain": [
              "<Figure size 432x288 with 1 Axes>"
            ]
          },
          "metadata": {
            "tags": []
          }
        },
        {
          "output_type": "stream",
          "text": [
            "CPU times: user 1.09 s, sys: 8.89 ms, total: 1.1 s\n",
            "Wall time: 1.1 s\n"
          ],
          "name": "stdout"
        }
      ]
    },
    {
      "cell_type": "code",
      "metadata": {
        "id": "c5jJqhvPFybp",
        "colab_type": "code",
        "colab": {
          "base_uri": "https://localhost:8080/",
          "height": 333
        },
        "outputId": "ff002895-07e2-4e58-b990-f1fb0fe856ee"
      },
      "source": [
        "finalplotter(prediction1,prediction2,prediction3)"
      ],
      "execution_count": null,
      "outputs": [
        {
          "output_type": "stream",
          "text": [
            "['Parasitized', 'Parasitized', 'Parasitized']\n",
            "\n"
          ],
          "name": "stdout"
        },
        {
          "output_type": "display_data",
          "data": {
            "image/png": "[encoded data removed]",
            "text/plain": [
              "<Figure size 432x288 with 1 Axes>"
            ]
          },
          "metadata": {
            "tags": []
          }
        }
      ]
    }
  ]
}